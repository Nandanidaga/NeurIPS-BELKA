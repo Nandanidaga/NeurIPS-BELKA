{
 "cells": [
  {
   "cell_type": "markdown",
   "id": "59598cfb",
   "metadata": {
    "papermill": {
     "duration": 0.003933,
     "end_time": "2024-05-14T12:58:33.893759",
     "exception": false,
     "start_time": "2024-05-14T12:58:33.889826",
     "status": "completed"
    },
    "tags": []
   },
   "source": [
    "In this notebook we will train a deep learning model using all the data available !\n",
    "* preprocessing : I encoded the smiles of all the train & test set and saved it [here](https://www.kaggle.com/datasets/ahmedelfazouan/belka-enc-dataset) , this may take up to 1 hour on TPU.\n",
    "* Training & Inference : I used a simple 1dcnn model trained on 20 epochs.\n",
    "\n",
    "How to improve :\n",
    "* Try a different architecture : I'm able to get an LB score of 0.604 with minor changes on this architecture.\n",
    "* Try another model like Transformer, or LSTM.\n",
    "* Train for more epochs.\n",
    "* Add more features like a one hot encoding of bb2 or bb3.\n",
    "* And of course ensembling with GBDT models."
   ]
  },
  {
   "cell_type": "markdown",
   "id": "f19aeff8",
   "metadata": {
    "papermill": {
     "duration": 0.002731,
     "end_time": "2024-05-14T12:58:33.899874",
     "exception": false,
     "start_time": "2024-05-14T12:58:33.897143",
     "status": "completed"
    },
    "tags": []
   },
   "source": [
    "# Leash Bio - Predict New Medicines with BELKA\n",
    "\n",
    "## Introduction\n",
    "Small molecule drugs play a crucial role in modern medicine, often targeting specific proteins to treat various diseases. However, with a vast chemical space to explore, traditional drug discovery methods can be laborious and time-consuming. The Leash Bio competition, \"Predict New Medicines with BELKA,\" aims to revolutionize small molecule binding prediction by leveraging machine learning techniques.\n",
    "\n",
    "## Dataset Overview\n",
    "The competition dataset comprises binary classifications indicating whether a small molecule binds to one of three protein targets. The data were collected using DNA-encoded chemical library (DEL) technology. Each example includes SMILES representations of building blocks and the fully assembled molecule, along with protein target names and binary binding classifications.\n",
    "\n",
    "### Files\n",
    "- **train/test.[csv/parquet]:** Contains training or test data in both csv and parquet formats.\n",
    "  - `id`: Unique identifier for the molecule-binding target pair.\n",
    "  - `buildingblock1_smiles`, `buildingblock2_smiles`, `buildingblock3_smiles`: SMILES representations of building blocks.\n",
    "  - `molecule_smiles`: SMILES representation of the fully assembled molecule.\n",
    "  - `protein_name`: Name of the protein target.\n",
    "  - `binds`: Binary class label indicating whether the molecule binds to the protein (not available for the test set).\n",
    "- **sample_submission.csv:** Sample submission file in the correct format.\n",
    "\n",
    "### Competition Data\n",
    "Leash Biosciences provides approximately 98M training examples per protein, 200K validation examples per protein, and 360K test molecules per protein. The test set contains building blocks not present in the training set, ensuring generalizability. The datasets are highly imbalanced, with only about 0.5% of examples classified as binders.\n",
    "\n",
    "## Protein Targets\n",
    "The competition focuses on predicting binding affinity for three protein targets:\n",
    "\n",
    "1. **EPHX2 (sEH):** Encoded by the EPHX2 genetic locus, soluble epoxide hydrolase (sEH) is a potential drug target for conditions like high blood pressure and diabetes. Crystal structures and amino acid sequences are provided for contestants wishing to incorporate protein structural information.\n",
    "2. **BRD4:** Bromodomain 4 plays roles in cancer progression, and inhibiting its activity is a strategy for cancer treatment. Crystal structures and sequences are available for contestants.\n",
    "3. **ALB (HSA):** Human serum albumin (HSA) is the most common protein in blood and plays a crucial role in drug absorption and transport. Predicting ALB binding can greatly impact drug discovery across various diseases.\n",
    "\n",
    "<table>\n",
    "  <tr>\n",
    "      <th><h2>Protein Name</h2></th>\n",
    "      <th><h2>Structure</h2></th>\n",
    "  </tr>\n",
    "  <tr>\n",
    "      <td><h2>EPHX2 (sEH)</h2></td>\n",
    "    <td><img src=\"https://cdn1.sinobiological.com/styles/default/images/protein-structure/CTSS-protein-structure.jpg\" alt=\"EPHX2 (sEH) protein structure\" width=\"500\" height=\"500\"></td>\n",
    "  </tr>\n",
    "  <tr>\n",
    "      <td><h2>BRD4</h2></td>\n",
    "    <td><img src=\"https://www.pinclipart.com/picdir/big/70-700834_protein-brd4-pdb-2oss-by-emw-brd4-protein.png\" alt=\"BRD4 protein structure\" width=\"500\" height=\"500\"></td>\n",
    "  </tr>\n",
    "  <tr>\n",
    "      <td><h2>ALB (HSA)</h2></td>\n",
    "    <td><img src=\"https://cdn.rcsb.org/images/structures/1e78_assembly-1.jpeg\" alt=\"ALB (HSA) protein structure\" width=\"500\" height=\"500\"></td>\n",
    "  </tr>\n",
    "</table>"
   ]
  },
  {
   "cell_type": "code",
   "execution_count": 1,
   "id": "4342b0c3",
   "metadata": {
    "_kg_hide-input": true,
    "_kg_hide-output": true,
    "execution": {
     "iopub.execute_input": "2024-05-14T12:58:33.907375Z",
     "iopub.status.busy": "2024-05-14T12:58:33.907105Z",
     "iopub.status.idle": "2024-05-14T12:58:39.510754Z",
     "shell.execute_reply": "2024-05-14T12:58:39.509596Z"
    },
    "papermill": {
     "duration": 5.611054,
     "end_time": "2024-05-14T12:58:39.513779",
     "exception": false,
     "start_time": "2024-05-14T12:58:33.902725",
     "status": "completed"
    },
    "tags": []
   },
   "outputs": [
    {
     "name": "stdout",
     "output_type": "stream",
     "text": [
      "\u001b[33mWARNING: Running pip as the 'root' user can result in broken permissions and conflicting behaviour with the system package manager. It is recommended to use a virtual environment instead: https://pip.pypa.io/warnings/venv\u001b[0m\u001b[33m\r\n",
      "\u001b[0m\r\n",
      "\u001b[1m[\u001b[0m\u001b[34;49mnotice\u001b[0m\u001b[1;39;49m]\u001b[0m\u001b[39;49m A new release of pip is available: \u001b[0m\u001b[31;49m23.0.1\u001b[0m\u001b[39;49m -> \u001b[0m\u001b[32;49m24.0\u001b[0m\r\n",
      "\u001b[1m[\u001b[0m\u001b[34;49mnotice\u001b[0m\u001b[1;39;49m]\u001b[0m\u001b[39;49m To update, run: \u001b[0m\u001b[32;49mpip install --upgrade pip\u001b[0m\r\n"
     ]
    }
   ],
   "source": [
    "!pip install fastparquet -q"
   ]
  },
  {
   "cell_type": "code",
   "execution_count": 2,
   "id": "f819c6da",
   "metadata": {
    "_cell_guid": "b1076dfc-b9ad-4769-8c92-a6c4dae69d19",
    "_uuid": "8f2839f25d086af736a60e9eeb907d3b93b6e0e5",
    "execution": {
     "iopub.execute_input": "2024-05-14T12:58:39.521986Z",
     "iopub.status.busy": "2024-05-14T12:58:39.521712Z",
     "iopub.status.idle": "2024-05-14T12:58:42.360457Z",
     "shell.execute_reply": "2024-05-14T12:58:42.359664Z"
    },
    "papermill": {
     "duration": 2.845285,
     "end_time": "2024-05-14T12:58:42.362677",
     "exception": false,
     "start_time": "2024-05-14T12:58:39.517392",
     "status": "completed"
    },
    "tags": []
   },
   "outputs": [],
   "source": [
    "import gc\n",
    "import os\n",
    "import pickle\n",
    "import random\n",
    "import joblib\n",
    "import numpy as np\n",
    "import pandas as pd\n",
    "from tqdm import tqdm\n",
    "from sklearn.model_selection import StratifiedKFold\n",
    "from sklearn.metrics import average_precision_score as APS"
   ]
  },
  {
   "cell_type": "code",
   "execution_count": 3,
   "id": "818a113b",
   "metadata": {
    "execution": {
     "iopub.execute_input": "2024-05-14T12:58:42.371066Z",
     "iopub.status.busy": "2024-05-14T12:58:42.370328Z",
     "iopub.status.idle": "2024-05-14T12:58:42.374994Z",
     "shell.execute_reply": "2024-05-14T12:58:42.374310Z"
    },
    "papermill": {
     "duration": 0.010673,
     "end_time": "2024-05-14T12:58:42.376705",
     "exception": false,
     "start_time": "2024-05-14T12:58:42.366032",
     "status": "completed"
    },
    "tags": []
   },
   "outputs": [],
   "source": [
    "class CFG:\n",
    "\n",
    "    PREPROCESS = False\n",
    "    EPOCHS = 20\n",
    "    BATCH_SIZE = 4096\n",
    "    LR = 1e-3\n",
    "    WD = 0.05\n",
    "\n",
    "    NBR_FOLDS = 15\n",
    "    SELECTED_FOLDS = [0]\n",
    "\n",
    "    SEED = 2024"
   ]
  },
  {
   "cell_type": "code",
   "execution_count": 4,
   "id": "c59345d7",
   "metadata": {
    "_kg_hide-output": true,
    "execution": {
     "iopub.execute_input": "2024-05-14T12:58:42.383833Z",
     "iopub.status.busy": "2024-05-14T12:58:42.383586Z",
     "iopub.status.idle": "2024-05-14T12:59:21.065930Z",
     "shell.execute_reply": "2024-05-14T12:59:21.065162Z"
    },
    "papermill": {
     "duration": 38.689223,
     "end_time": "2024-05-14T12:59:21.068917",
     "exception": false,
     "start_time": "2024-05-14T12:58:42.379694",
     "status": "completed"
    },
    "tags": []
   },
   "outputs": [
    {
     "name": "stderr",
     "output_type": "stream",
     "text": [
      "D0514 12:59:13.726950806      14 config.cc:119]                        gRPC EXPERIMENT tcp_frame_size_tuning               OFF (default:OFF)\n",
      "D0514 12:59:13.726974041      14 config.cc:119]                        gRPC EXPERIMENT tcp_rcv_lowat                       OFF (default:OFF)\n",
      "D0514 12:59:13.726978924      14 config.cc:119]                        gRPC EXPERIMENT peer_state_based_framing            OFF (default:OFF)\n",
      "D0514 12:59:13.726984271      14 config.cc:119]                        gRPC EXPERIMENT flow_control_fixes                  ON  (default:ON)\n",
      "D0514 12:59:13.726989155      14 config.cc:119]                        gRPC EXPERIMENT memory_pressure_controller          OFF (default:OFF)\n",
      "D0514 12:59:13.726994339      14 config.cc:119]                        gRPC EXPERIMENT unconstrained_max_quota_buffer_size OFF (default:OFF)\n",
      "D0514 12:59:13.726999121      14 config.cc:119]                        gRPC EXPERIMENT new_hpack_huffman_decoder           ON  (default:ON)\n",
      "D0514 12:59:13.727026842      14 config.cc:119]                        gRPC EXPERIMENT event_engine_client                 OFF (default:OFF)\n",
      "D0514 12:59:13.727031614      14 config.cc:119]                        gRPC EXPERIMENT monitoring_experiment               ON  (default:ON)\n",
      "D0514 12:59:13.727035631      14 config.cc:119]                        gRPC EXPERIMENT promise_based_client_call           OFF (default:OFF)\n",
      "D0514 12:59:13.727040986      14 config.cc:119]                        gRPC EXPERIMENT free_large_allocator                OFF (default:OFF)\n",
      "D0514 12:59:13.727046248      14 config.cc:119]                        gRPC EXPERIMENT promise_based_server_call           OFF (default:OFF)\n",
      "D0514 12:59:13.727050402      14 config.cc:119]                        gRPC EXPERIMENT transport_supplies_client_latency   OFF (default:OFF)\n",
      "D0514 12:59:13.727054160      14 config.cc:119]                        gRPC EXPERIMENT event_engine_listener               OFF (default:OFF)\n",
      "I0514 12:59:13.727265716      14 ev_epoll1_linux.cc:122]               grpc epoll fd: 59\n",
      "D0514 12:59:13.727281640      14 ev_posix.cc:144]                      Using polling engine: epoll1\n",
      "D0514 12:59:13.727347726      14 dns_resolver_ares.cc:822]             Using ares dns resolver\n",
      "D0514 12:59:13.727823812      14 lb_policy_registry.cc:46]             registering LB policy factory for \"priority_experimental\"\n",
      "D0514 12:59:13.727831935      14 lb_policy_registry.cc:46]             registering LB policy factory for \"outlier_detection_experimental\"\n",
      "D0514 12:59:13.727835787      14 lb_policy_registry.cc:46]             registering LB policy factory for \"weighted_target_experimental\"\n",
      "D0514 12:59:13.727838579      14 lb_policy_registry.cc:46]             registering LB policy factory for \"pick_first\"\n",
      "D0514 12:59:13.727841452      14 lb_policy_registry.cc:46]             registering LB policy factory for \"round_robin\"\n",
      "D0514 12:59:13.727844376      14 lb_policy_registry.cc:46]             registering LB policy factory for \"weighted_round_robin_experimental\"\n",
      "D0514 12:59:13.727852326      14 lb_policy_registry.cc:46]             registering LB policy factory for \"ring_hash_experimental\"\n",
      "D0514 12:59:13.727873356      14 lb_policy_registry.cc:46]             registering LB policy factory for \"grpclb\"\n",
      "D0514 12:59:13.727924405      14 lb_policy_registry.cc:46]             registering LB policy factory for \"rls_experimental\"\n",
      "D0514 12:59:13.727945656      14 lb_policy_registry.cc:46]             registering LB policy factory for \"xds_cluster_manager_experimental\"\n",
      "D0514 12:59:13.727949637      14 lb_policy_registry.cc:46]             registering LB policy factory for \"xds_cluster_impl_experimental\"\n",
      "D0514 12:59:13.727952802      14 lb_policy_registry.cc:46]             registering LB policy factory for \"cds_experimental\"\n",
      "D0514 12:59:13.727956205      14 lb_policy_registry.cc:46]             registering LB policy factory for \"xds_cluster_resolver_experimental\"\n",
      "D0514 12:59:13.727959386      14 lb_policy_registry.cc:46]             registering LB policy factory for \"xds_override_host_experimental\"\n",
      "D0514 12:59:13.727962529      14 lb_policy_registry.cc:46]             registering LB policy factory for \"xds_wrr_locality_experimental\"\n",
      "D0514 12:59:13.727965785      14 certificate_provider_registry.cc:35]  registering certificate provider factory for \"file_watcher\"\n",
      "I0514 12:59:13.731414496      14 socket_utils_common_posix.cc:408]     Disabling AF_INET6 sockets because ::1 is not available.\n",
      "I0514 12:59:13.756992229      14 socket_utils_common_posix.cc:337]     TCP_USER_TIMEOUT is available. TCP_USER_TIMEOUT will be used thereafter\n",
      "E0514 12:59:13.762798584      14 oauth2_credentials.cc:236]            oauth_fetch: UNKNOWN:C-ares status is not ARES_SUCCESS qtype=A name=metadata.google.internal. is_balancer=0: Domain name not found {grpc_status:2, created_time:\"2024-05-14T12:59:13.762781384+00:00\"}\n"
     ]
    }
   ],
   "source": [
    "import tensorflow as tf\n",
    "def set_seeds(seed):\n",
    "    os.environ['PYTHONHASHSEED'] = str(seed)\n",
    "    random.seed(seed)\n",
    "    tf.random.set_seed(seed)\n",
    "    np.random.seed(seed)\n",
    "\n",
    "set_seeds(seed=CFG.SEED)"
   ]
  },
  {
   "cell_type": "code",
   "execution_count": 5,
   "id": "bccc24b3",
   "metadata": {
    "execution": {
     "iopub.execute_input": "2024-05-14T12:59:21.077508Z",
     "iopub.status.busy": "2024-05-14T12:59:21.077077Z",
     "iopub.status.idle": "2024-05-14T12:59:29.946905Z",
     "shell.execute_reply": "2024-05-14T12:59:29.946090Z"
    },
    "papermill": {
     "duration": 8.876853,
     "end_time": "2024-05-14T12:59:29.949593",
     "exception": false,
     "start_time": "2024-05-14T12:59:21.072740",
     "status": "completed"
    },
    "tags": []
   },
   "outputs": [
    {
     "name": "stdout",
     "output_type": "stream",
     "text": [
      "INFO:tensorflow:Deallocate tpu buffers before initializing tpu system.\n",
      "INFO:tensorflow:Initializing the TPU system: local\n",
      "INFO:tensorflow:Finished initializing TPU system.\n",
      "INFO:tensorflow:Found TPU system:\n",
      "INFO:tensorflow:*** Num TPU Cores: 8\n",
      "INFO:tensorflow:*** Num TPU Workers: 1\n",
      "INFO:tensorflow:*** Num TPU Cores Per Worker: 8\n",
      "INFO:tensorflow:*** Available Device: _DeviceAttributes(/job:localhost/replica:0/task:0/device:CPU:0, CPU, 0, 0)\n",
      "INFO:tensorflow:*** Available Device: _DeviceAttributes(/job:localhost/replica:0/task:0/device:TPU:0, TPU, 0, 0)\n",
      "INFO:tensorflow:*** Available Device: _DeviceAttributes(/job:localhost/replica:0/task:0/device:TPU:1, TPU, 0, 0)\n",
      "INFO:tensorflow:*** Available Device: _DeviceAttributes(/job:localhost/replica:0/task:0/device:TPU:2, TPU, 0, 0)\n",
      "INFO:tensorflow:*** Available Device: _DeviceAttributes(/job:localhost/replica:0/task:0/device:TPU:3, TPU, 0, 0)\n",
      "INFO:tensorflow:*** Available Device: _DeviceAttributes(/job:localhost/replica:0/task:0/device:TPU:4, TPU, 0, 0)\n",
      "INFO:tensorflow:*** Available Device: _DeviceAttributes(/job:localhost/replica:0/task:0/device:TPU:5, TPU, 0, 0)\n",
      "INFO:tensorflow:*** Available Device: _DeviceAttributes(/job:localhost/replica:0/task:0/device:TPU:6, TPU, 0, 0)\n",
      "INFO:tensorflow:*** Available Device: _DeviceAttributes(/job:localhost/replica:0/task:0/device:TPU:7, TPU, 0, 0)\n",
      "INFO:tensorflow:*** Available Device: _DeviceAttributes(/job:localhost/replica:0/task:0/device:TPU_SYSTEM:0, TPU_SYSTEM, 0, 0)\n",
      "Running on TPU\n",
      "REPLICAS:  8\n"
     ]
    }
   ],
   "source": [
    "import tensorflow as tf\n",
    "\n",
    "# Detect hardware, return appropriate distribution strategy\n",
    "try:\n",
    "    tpu = tf.distribute.cluster_resolver.TPUClusterResolver.connect(tpu=\"local\") # \"local\" for 1VM TPU\n",
    "    strategy = tf.distribute.TPUStrategy(tpu)\n",
    "    print(\"Running on TPU\")\n",
    "    print(\"REPLICAS: \", strategy.num_replicas_in_sync)\n",
    "except tf.errors.NotFoundError:\n",
    "    print(\"Not on TPU\")"
   ]
  },
  {
   "cell_type": "markdown",
   "id": "a4e59c39",
   "metadata": {
    "papermill": {
     "duration": 0.004046,
     "end_time": "2024-05-14T12:59:29.958468",
     "exception": false,
     "start_time": "2024-05-14T12:59:29.954422",
     "status": "completed"
    },
    "tags": []
   },
   "source": [
    "# Preprocessing"
   ]
  },
  {
   "cell_type": "code",
   "execution_count": 6,
   "id": "bab434d9",
   "metadata": {
    "execution": {
     "iopub.execute_input": "2024-05-14T12:59:29.967999Z",
     "iopub.status.busy": "2024-05-14T12:59:29.967747Z",
     "iopub.status.idle": "2024-05-14T13:01:16.794341Z",
     "shell.execute_reply": "2024-05-14T13:01:16.793363Z"
    },
    "papermill": {
     "duration": 106.834639,
     "end_time": "2024-05-14T13:01:16.797251",
     "exception": false,
     "start_time": "2024-05-14T12:59:29.962612",
     "status": "completed"
    },
    "tags": []
   },
   "outputs": [],
   "source": [
    "from tqdm import tqdm\n",
    "\n",
    "if CFG.PREPROCESS:\n",
    "    enc = {'l': 1, 'y': 2, '@': 3, '3': 4, 'H': 5, 'S': 6, 'F': 7, 'C': 8, 'r': 9, 's': 10, '/': 11, 'c': 12, 'o': 13,\n",
    "           '+': 14, 'I': 15, '5': 16, '(': 17, '2': 18, ')': 19, '9': 20, 'i': 21, '#': 22, '6': 23, '8': 24, '4': 25, '=': 26,\n",
    "           '1': 27, 'O': 28, '[': 29, 'D': 30, 'B': 31, ']': 32, 'N': 33, '7': 34, 'n': 35, '-': 36}\n",
    "    train_raw = pd.read_parquet('/kaggle/input/leash-BELKA/train.parquet')\n",
    "    smiles = train_raw[train_raw['protein_name']=='BRD4']['molecule_smiles'].values\n",
    "    assert (smiles!=train_raw[train_raw['protein_name']=='HSA']['molecule_smiles'].values).sum() == 0\n",
    "    assert (smiles!=train_raw[train_raw['protein_name']=='sEH']['molecule_smiles'].values).sum() == 0\n",
    "    def encode_smile(smile):\n",
    "        tmp = [enc[i] for i in smile]\n",
    "        tmp = tmp + [0]*(142-len(tmp))\n",
    "        return np.array(tmp).astype(np.uint8)\n",
    "\n",
    "    smiles_enc = joblib.Parallel(n_jobs=96)(joblib.delayed(encode_smile)(smile) for smile in tqdm(smiles))\n",
    "    smiles_enc = np.stack(smiles_enc)\n",
    "    train = pd.DataFrame(smiles_enc, columns = [f'enc{i}' for i in range(142)])\n",
    "    train['bind1'] = train_raw[train_raw['protein_name']=='BRD4']['binds'].values\n",
    "    train['bind2'] = train_raw[train_raw['protein_name']=='HSA']['binds'].values\n",
    "    train['bind3'] = train_raw[train_raw['protein_name']=='sEH']['binds'].values\n",
    "    train.to_parquet('train_enc.parquet')\n",
    "\n",
    "    test_raw = pd.read_parquet('/kaggle/input/leash-BELKA/test.parquet')\n",
    "    smiles = test_raw['molecule_smiles'].values\n",
    "\n",
    "    smiles_enc = joblib.Parallel(n_jobs=96)(joblib.delayed(encode_smile)(smile) for smile in tqdm(smiles))\n",
    "    smiles_enc = np.stack(smiles_enc)\n",
    "    test = pd.DataFrame(smiles_enc, columns = [f'enc{i}' for i in range(142)])\n",
    "    test.to_parquet('test_enc.parquet')\n",
    "\n",
    "else:\n",
    "    train = pd.read_parquet('/kaggle/input/belka-enc-dataset/train_enc.parquet')\n",
    "    test = pd.read_parquet('/kaggle/input/belka-enc-dataset/test_enc.parquet')"
   ]
  },
  {
   "cell_type": "markdown",
   "id": "ef5980d8",
   "metadata": {
    "papermill": {
     "duration": 0.004159,
     "end_time": "2024-05-14T13:01:16.806364",
     "exception": false,
     "start_time": "2024-05-14T13:01:16.802205",
     "status": "completed"
    },
    "tags": []
   },
   "source": [
    "# Modeling"
   ]
  },
  {
   "cell_type": "code",
   "execution_count": 7,
   "id": "3bc46f90",
   "metadata": {
    "execution": {
     "iopub.execute_input": "2024-05-14T13:01:16.816338Z",
     "iopub.status.busy": "2024-05-14T13:01:16.815846Z",
     "iopub.status.idle": "2024-05-14T13:01:16.825598Z",
     "shell.execute_reply": "2024-05-14T13:01:16.824941Z"
    },
    "papermill": {
     "duration": 0.016912,
     "end_time": "2024-05-14T13:01:16.827324",
     "exception": false,
     "start_time": "2024-05-14T13:01:16.810412",
     "status": "completed"
    },
    "tags": []
   },
   "outputs": [],
   "source": [
    "def my_model():\n",
    "    with strategy.scope():\n",
    "        INP_LEN = 142\n",
    "        NUM_FILTERS = 32\n",
    "        hidden_dim = 128\n",
    "\n",
    "        inputs = tf.keras.layers.Input(shape=(INP_LEN,), dtype='int32')\n",
    "        x = tf.keras.layers.Embedding(input_dim=36, output_dim=hidden_dim, input_length=INP_LEN, mask_zero = True)(inputs)\n",
    "        x = tf.keras.layers.Conv1D(filters=NUM_FILTERS, kernel_size=3,  activation='relu', padding='valid',  strides=1)(x)\n",
    "        x = tf.keras.layers.Conv1D(filters=NUM_FILTERS*2, kernel_size=3,  activation='relu', padding='valid',  strides=1)(x)\n",
    "        x = tf.keras.layers.Conv1D(filters=NUM_FILTERS*3, kernel_size=3,  activation='relu', padding='valid',  strides=1)(x)\n",
    "        x = tf.keras.layers.GlobalMaxPooling1D()(x)\n",
    "\n",
    "        x = tf.keras.layers.Dense(1024, activation='relu')(x)\n",
    "        x = tf.keras.layers.Dropout(0.1)(x)\n",
    "        x = tf.keras.layers.Dense(1024, activation='relu')(x)\n",
    "        x = tf.keras.layers.Dropout(0.1)(x)\n",
    "        x = tf.keras.layers.Dense(512, activation='relu')(x)\n",
    "        x = tf.keras.layers.Dropout(0.1)(x)\n",
    "\n",
    "        outputs = tf.keras.layers.Dense(3, activation='sigmoid')(x)\n",
    "\n",
    "        model = tf.keras.models.Model(inputs = inputs, outputs = outputs)\n",
    "        optimizer = tf.keras.optimizers.Adam(learning_rate=CFG.LR, weight_decay = CFG.WD)\n",
    "        loss = 'binary_crossentropy'\n",
    "        weighted_metrics = [tf.keras.metrics.AUC(curve='PR', name = 'avg_precision')]\n",
    "        model.compile(\n",
    "        loss=loss,\n",
    "        optimizer=optimizer,\n",
    "        weighted_metrics=weighted_metrics,\n",
    "        )\n",
    "        return model"
   ]
  },
  {
   "cell_type": "markdown",
   "id": "5630b44f",
   "metadata": {
    "papermill": {
     "duration": 0.004241,
     "end_time": "2024-05-14T13:01:16.835996",
     "exception": false,
     "start_time": "2024-05-14T13:01:16.831755",
     "status": "completed"
    },
    "tags": []
   },
   "source": [
    "# Train & Inference"
   ]
  },
  {
   "cell_type": "code",
   "execution_count": 8,
   "id": "03c51bb8",
   "metadata": {
    "execution": {
     "iopub.execute_input": "2024-05-14T13:01:16.845928Z",
     "iopub.status.busy": "2024-05-14T13:01:16.845676Z",
     "iopub.status.idle": "2024-05-14T14:36:37.600700Z",
     "shell.execute_reply": "2024-05-14T14:36:37.599465Z"
    },
    "papermill": {
     "duration": 5720.763316,
     "end_time": "2024-05-14T14:36:37.603500",
     "exception": false,
     "start_time": "2024-05-14T13:01:16.840184",
     "status": "completed"
    },
    "tags": []
   },
   "outputs": [
    {
     "name": "stdout",
     "output_type": "stream",
     "text": [
      "Epoch 1/20\n"
     ]
    },
    {
     "name": "stderr",
     "output_type": "stream",
     "text": [
      "2024-05-14 13:05:56.002130: E tensorflow/core/grappler/optimizers/meta_optimizer.cc:954] model_pruner failed: INVALID_ARGUMENT: Graph does not contain terminal node Add_30/ReadVariableOp.\n",
      "2024-05-14 13:05:56.151132: E tensorflow/core/grappler/optimizers/meta_optimizer.cc:954] model_pruner failed: INVALID_ARGUMENT: Graph does not contain terminal node Add_30/ReadVariableOp.\n"
     ]
    },
    {
     "name": "stdout",
     "output_type": "stream",
     "text": [
      "22426/22426 [==============================] - ETA: 0s - loss: 0.0154 - avg_precision: 0.5227"
     ]
    },
    {
     "name": "stderr",
     "output_type": "stream",
     "text": [
      "2024-05-14 13:10:32.463409: E tensorflow/core/grappler/optimizers/meta_optimizer.cc:954] model_pruner failed: INVALID_ARGUMENT: Graph does not contain terminal node Add/ReadVariableOp.\n",
      "2024-05-14 13:10:32.576416: E tensorflow/core/grappler/optimizers/meta_optimizer.cc:954] model_pruner failed: INVALID_ARGUMENT: Graph does not contain terminal node Add/ReadVariableOp.\n"
     ]
    },
    {
     "name": "stdout",
     "output_type": "stream",
     "text": [
      "22426/22426 [==============================] - 295s 13ms/step - loss: 0.0154 - avg_precision: 0.5227 - val_loss: 0.0135 - val_avg_precision: 0.5973 - lr: 0.0010\n",
      "Epoch 2/20\n",
      "22426/22426 [==============================] - 268s 12ms/step - loss: 0.0133 - avg_precision: 0.6024 - val_loss: 0.0129 - val_avg_precision: 0.6218 - lr: 0.0010\n",
      "Epoch 3/20\n",
      "22426/22426 [==============================] - 269s 12ms/step - loss: 0.0130 - avg_precision: 0.6164 - val_loss: 0.0128 - val_avg_precision: 0.6283 - lr: 0.0010\n",
      "Epoch 4/20\n",
      "22426/22426 [==============================] - 269s 12ms/step - loss: 0.0128 - avg_precision: 0.6228 - val_loss: 0.0128 - val_avg_precision: 0.6298 - lr: 0.0010\n",
      "Epoch 5/20\n",
      "22426/22426 [==============================] - 268s 12ms/step - loss: 0.0127 - avg_precision: 0.6269 - val_loss: 0.0125 - val_avg_precision: 0.6381 - lr: 0.0010\n",
      "Epoch 6/20\n",
      "22426/22426 [==============================] - 269s 12ms/step - loss: 0.0127 - avg_precision: 0.6299 - val_loss: 0.0124 - val_avg_precision: 0.6404 - lr: 0.0010\n",
      "Epoch 7/20\n",
      "22426/22426 [==============================] - 270s 12ms/step - loss: 0.0126 - avg_precision: 0.6319 - val_loss: 0.0124 - val_avg_precision: 0.6421 - lr: 0.0010\n",
      "Epoch 8/20\n",
      "22426/22426 [==============================] - 269s 12ms/step - loss: 0.0126 - avg_precision: 0.6338 - val_loss: 0.0124 - val_avg_precision: 0.6463 - lr: 0.0010\n",
      "Epoch 9/20\n",
      "22426/22426 [==============================] - 269s 12ms/step - loss: 0.0125 - avg_precision: 0.6350 - val_loss: 0.0124 - val_avg_precision: 0.6386 - lr: 0.0010\n",
      "Epoch 10/20\n",
      "22426/22426 [==============================] - 270s 12ms/step - loss: 0.0125 - avg_precision: 0.6364 - val_loss: 0.0123 - val_avg_precision: 0.6450 - lr: 0.0010\n",
      "Epoch 11/20\n",
      "22426/22426 [==============================] - 269s 12ms/step - loss: 0.0125 - avg_precision: 0.6372 - val_loss: 0.0123 - val_avg_precision: 0.6464 - lr: 0.0010\n",
      "Epoch 12/20\n",
      "22425/22426 [============================>.] - ETA: 0s - loss: 0.0125 - avg_precision: 0.6382\n",
      "Epoch 12: ReduceLROnPlateau reducing learning rate to 5.0000002374872565e-05.\n",
      "22426/22426 [==============================] - 270s 12ms/step - loss: 0.0125 - avg_precision: 0.6382 - val_loss: 0.0123 - val_avg_precision: 0.6445 - lr: 0.0010\n",
      "Epoch 13/20\n",
      "22426/22426 [==============================] - 269s 12ms/step - loss: 0.0115 - avg_precision: 0.6765 - val_loss: 0.0113 - val_avg_precision: 0.6865 - lr: 5.0000e-05\n",
      "Epoch 14/20\n",
      "22426/22426 [==============================] - 269s 12ms/step - loss: 0.0113 - avg_precision: 0.6849 - val_loss: 0.0112 - val_avg_precision: 0.6901 - lr: 5.0000e-05\n",
      "Epoch 15/20\n",
      "22426/22426 [==============================] - 268s 12ms/step - loss: 0.0112 - avg_precision: 0.6885 - val_loss: 0.0112 - val_avg_precision: 0.6923 - lr: 5.0000e-05\n",
      "Epoch 16/20\n",
      "22426/22426 [==============================] - 268s 12ms/step - loss: 0.0112 - avg_precision: 0.6907 - val_loss: 0.0111 - val_avg_precision: 0.6938 - lr: 5.0000e-05\n",
      "Epoch 17/20\n",
      "22426/22426 [==============================] - 268s 12ms/step - loss: 0.0111 - avg_precision: 0.6924 - val_loss: 0.0111 - val_avg_precision: 0.6947 - lr: 5.0000e-05\n",
      "Epoch 18/20\n",
      "22426/22426 [==============================] - 268s 12ms/step - loss: 0.0111 - avg_precision: 0.6937 - val_loss: 0.0111 - val_avg_precision: 0.6961 - lr: 5.0000e-05\n",
      "Epoch 19/20\n",
      "22426/22426 [==============================] - 269s 12ms/step - loss: 0.0111 - avg_precision: 0.6949 - val_loss: 0.0111 - val_avg_precision: 0.6964 - lr: 5.0000e-05\n",
      "Epoch 20/20\n",
      "22426/22426 [==============================] - 269s 12ms/step - loss: 0.0111 - avg_precision: 0.6958 - val_loss: 0.0111 - val_avg_precision: 0.6974 - lr: 5.0000e-05\n"
     ]
    },
    {
     "name": "stderr",
     "output_type": "stream",
     "text": [
      "2024-05-14 14:36:05.134451: E tensorflow/core/grappler/optimizers/meta_optimizer.cc:954] model_pruner failed: INVALID_ARGUMENT: Graph does not contain terminal node AssignAddVariableOp.\n",
      "2024-05-14 14:36:05.207566: E tensorflow/core/grappler/optimizers/meta_optimizer.cc:954] model_pruner failed: INVALID_ARGUMENT: Graph does not contain terminal node AssignAddVariableOp.\n"
     ]
    },
    {
     "name": "stdout",
     "output_type": "stream",
     "text": [
      "801/801 [==============================] - 11s 11ms/step\n",
      "fold : 0 CV score = 0.6993378912933922\n",
      "205/205 [==============================] - 4s 17ms/step\n"
     ]
    }
   ],
   "source": [
    "FEATURES = [f'enc{i}' for i in range(142)]\n",
    "TARGETS = ['bind1', 'bind2', 'bind3']\n",
    "skf = StratifiedKFold(n_splits = CFG.NBR_FOLDS, shuffle = True, random_state = 42)\n",
    "\n",
    "all_preds = []\n",
    "for fold,(train_idx, valid_idx) in enumerate(skf.split(train, train[TARGETS].sum(1))):\n",
    "    \n",
    "    if fold not in CFG.SELECTED_FOLDS:\n",
    "        continue;\n",
    "    \n",
    "    X_train = train.loc[train_idx, FEATURES]\n",
    "    y_train = train.loc[train_idx, TARGETS]\n",
    "    X_val = train.loc[valid_idx, FEATURES]\n",
    "    y_val = train.loc[valid_idx, TARGETS]\n",
    "\n",
    "    es = tf.keras.callbacks.EarlyStopping(patience=5, monitor=\"val_loss\", mode='min', verbose=1)\n",
    "    checkpoint = tf.keras.callbacks.ModelCheckpoint(monitor='val_loss', filepath=f\"model-{fold}.h5\",\n",
    "                                                        save_best_only=True, save_weights_only=True,\n",
    "                                                    mode='min')\n",
    "    reduce_lr_loss = tf.keras.callbacks.ReduceLROnPlateau(monitor='val_loss', factor=0.05, patience=5, verbose=1)\n",
    "    model = my_model()\n",
    "    history = model.fit(\n",
    "            X_train, y_train,\n",
    "            validation_data=(X_val, y_val),\n",
    "            epochs=CFG.EPOCHS,\n",
    "            callbacks=[checkpoint, reduce_lr_loss, es],\n",
    "            batch_size=CFG.BATCH_SIZE,\n",
    "            verbose=1,\n",
    "        )\n",
    "    model.load_weights(f\"model-{fold}.h5\")\n",
    "    oof = model.predict(X_val, batch_size = 2*CFG.BATCH_SIZE)\n",
    "    print('fold :', fold, 'CV score =', APS(y_val, oof, average = 'micro'))\n",
    "    \n",
    "    preds = model.predict(test, batch_size = 2*CFG.BATCH_SIZE)\n",
    "    all_preds.append(preds)\n",
    "\n",
    "preds = np.mean(all_preds, 0)"
   ]
  },
  {
   "cell_type": "markdown",
   "id": "7d78533f",
   "metadata": {
    "papermill": {
     "duration": 5.20658,
     "end_time": "2024-05-14T14:36:48.051995",
     "exception": false,
     "start_time": "2024-05-14T14:36:42.845415",
     "status": "completed"
    },
    "tags": []
   },
   "source": [
    "# Submission"
   ]
  },
  {
   "cell_type": "code",
   "execution_count": 9,
   "id": "c8f8cad0",
   "metadata": {
    "execution": {
     "iopub.execute_input": "2024-05-14T14:36:58.456690Z",
     "iopub.status.busy": "2024-05-14T14:36:58.456243Z",
     "iopub.status.idle": "2024-05-14T14:37:05.007671Z",
     "shell.execute_reply": "2024-05-14T14:37:05.006414Z"
    },
    "papermill": {
     "duration": 11.747311,
     "end_time": "2024-05-14T14:37:05.010374",
     "exception": false,
     "start_time": "2024-05-14T14:36:53.263063",
     "status": "completed"
    },
    "tags": []
   },
   "outputs": [],
   "source": [
    "tst = pd.read_parquet('/kaggle/input/leash-BELKA/test.parquet')\n",
    "tst['binds'] = 0\n",
    "tst.loc[tst['protein_name']=='BRD4', 'binds'] = preds[(tst['protein_name']=='BRD4').values, 0]\n",
    "tst.loc[tst['protein_name']=='HSA', 'binds'] = preds[(tst['protein_name']=='HSA').values, 1]\n",
    "tst.loc[tst['protein_name']=='sEH', 'binds'] = preds[(tst['protein_name']=='sEH').values, 2]\n",
    "tst[['id', 'binds']].to_csv('submission.csv', index = False)"
   ]
  }
 ],
 "metadata": {
  "kaggle": {
   "accelerator": "tpu1vmV38",
   "dataSources": [
    {
     "databundleVersionId": 8006601,
     "sourceId": 67356,
     "sourceType": "competition"
    },
    {
     "datasetId": 4914065,
     "sourceId": 8275617,
     "sourceType": "datasetVersion"
    }
   ],
   "dockerImageVersionId": 30514,
   "isGpuEnabled": false,
   "isInternetEnabled": true,
   "language": "python",
   "sourceType": "notebook"
  },
  "kernelspec": {
   "display_name": "Python 3",
   "language": "python",
   "name": "python3"
  },
  "language_info": {
   "codemirror_mode": {
    "name": "ipython",
    "version": 3
   },
   "file_extension": ".py",
   "mimetype": "text/x-python",
   "name": "python",
   "nbconvert_exporter": "python",
   "pygments_lexer": "ipython3",
   "version": "3.8.17"
  },
  "papermill": {
   "default_parameters": {},
   "duration": 5925.748224,
   "end_time": "2024-05-14T14:37:17.417719",
   "environment_variables": {},
   "exception": null,
   "input_path": "__notebook__.ipynb",
   "output_path": "__notebook__.ipynb",
   "parameters": {},
   "start_time": "2024-05-14T12:58:31.669495",
   "version": "2.4.0"
  }
 },
 "nbformat": 4,
 "nbformat_minor": 5
}
